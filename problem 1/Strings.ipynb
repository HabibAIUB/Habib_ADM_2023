{
 "cells": [
  {
   "cell_type": "code",
   "execution_count": 122,
   "id": "0c174726",
   "metadata": {},
   "outputs": [
    {
     "name": "stdout",
     "output_type": "stream",
     "text": [
      "abcdcdc\n",
      "cdc\n",
      "2\n"
     ]
    }
   ],
   "source": [
    "# Find a String\n",
    "\n",
    "def count_substring(string, sub_string):\n",
    "    slen = len(string)\n",
    "    sslen = len(sub_string)\n",
    "    count = 0\n",
    "    for i in range(slen):\n",
    "        if string[i: i+sslen] == sub_string:\n",
    "            count += 1\n",
    "    return count\n",
    "\n",
    "if __name__ == '__main__':\n",
    "    string = input().strip()\n",
    "    sub_string = input().strip()\n",
    "    \n",
    "    count = count_substring(string, sub_string)\n",
    "    print(count)"
   ]
  },
  {
   "cell_type": "code",
   "execution_count": 1,
   "id": "e826fd89",
   "metadata": {},
   "outputs": [
    {
     "name": "stdout",
     "output_type": "stream",
     "text": [
      "Hello WORld\n",
      "hELLO worLD\n"
     ]
    }
   ],
   "source": [
    "# sWAP cASE\n",
    "\n",
    "def swap_case(s):\n",
    "    strToSwap = [str(letter).upper() if(str(letter).islower ()) else str(letter).lower() for letter in s]\n",
    "    return \"\".join(strToSwap)\n",
    "\n",
    "\n",
    "if __name__ == '__main__':\n",
    "    s = input()\n",
    "    result = swap_case(s)\n",
    "    print(result)"
   ]
  },
  {
   "cell_type": "code",
   "execution_count": 2,
   "id": "707ccba1",
   "metadata": {},
   "outputs": [
    {
     "name": "stdout",
     "output_type": "stream",
     "text": [
      "Hello World\n",
      "Hello-World\n"
     ]
    }
   ],
   "source": [
    "# String split and join\n",
    "\n",
    "def split_and_join(line):\n",
    "    a=line.split(\" \")\n",
    "    a=\"-\".join(a)\n",
    "    return a\n",
    "\n",
    "if __name__ == '__main__':\n",
    "    line = input()\n",
    "    result = split_and_join(line)\n",
    "    print(result)"
   ]
  },
  {
   "cell_type": "code",
   "execution_count": 3,
   "id": "3b2ba985",
   "metadata": {},
   "outputs": [
    {
     "name": "stdout",
     "output_type": "stream",
     "text": [
      "Habibul Bashar\n",
      "Syed\n",
      "Hello Habibul Bashar Syed! You just delved into python."
     ]
    }
   ],
   "source": [
    "# What's your name?\n",
    "\n",
    "def print_full_name(first, last):\n",
    "    print(\"Hello\", first, last,end=\"! You just delved into python.\")\n",
    "\n",
    "if __name__ == '__main__':\n",
    "    first_name = input()\n",
    "    last_name = input()\n",
    "    print_full_name(first_name, last_name)"
   ]
  },
  {
   "cell_type": "code",
   "execution_count": 5,
   "id": "28a7ac0e",
   "metadata": {},
   "outputs": [
    {
     "name": "stdout",
     "output_type": "stream",
     "text": [
      "HelloWorld\n",
      "4 -\n",
      "Hell-World\n"
     ]
    }
   ],
   "source": [
    "# Mutations\n",
    "\n",
    "def mutate_string(string, position, character):\n",
    "    l= list(string)\n",
    "    l[position] = character\n",
    "    s=\"\".join(l)    \n",
    "    \n",
    "    return s\n",
    "\n",
    "if __name__ == '__main__':\n",
    "    s = input()\n",
    "    i, c = input().split()\n",
    "    s_new = mutate_string(s, int(i), c)\n",
    "    print(s_new)"
   ]
  },
  {
   "cell_type": "code",
   "execution_count": 23,
   "id": "747ffc0c",
   "metadata": {},
   "outputs": [
    {
     "name": "stdout",
     "output_type": "stream",
     "text": [
      "ase3\n",
      "True\n",
      "True\n",
      "True\n",
      "True\n",
      "False\n"
     ]
    }
   ],
   "source": [
    "# String Validators\n",
    "\n",
    "if __name__ == '__main__':\n",
    "    s = input()\n",
    "    print(any(c.isalnum() for c in s))\n",
    "    print(any(c.isalpha() for c in s))\n",
    "    print(any(c.isdigit() for c in s))\n",
    "    print(any(c.islower() for c in s))\n",
    "    print(any(c.isupper() for c in s))\n"
   ]
  },
  {
   "cell_type": "code",
   "execution_count": 31,
   "id": "f609bf64",
   "metadata": {},
   "outputs": [
    {
     "name": "stdout",
     "output_type": "stream",
     "text": [
      "5\n",
      "    H    \n",
      "   HHH   \n",
      "  HHHHH  \n",
      " HHHHHHH \n",
      "HHHHHHHHH\n",
      "  HHHHH               HHHHH             \n",
      "  HHHHH               HHHHH             \n",
      "  HHHHH               HHHHH             \n",
      "  HHHHH               HHHHH             \n",
      "  HHHHH               HHHHH             \n",
      "  HHHHH               HHHHH             \n",
      "  HHHHHHHHHHHHHHHHHHHHHHHHH   \n",
      "  HHHHHHHHHHHHHHHHHHHHHHHHH   \n",
      "  HHHHHHHHHHHHHHHHHHHHHHHHH   \n",
      "  HHHHH               HHHHH             \n",
      "  HHHHH               HHHHH             \n",
      "  HHHHH               HHHHH             \n",
      "  HHHHH               HHHHH             \n",
      "  HHHHH               HHHHH             \n",
      "  HHHHH               HHHHH             \n",
      "                    HHHHHHHHH \n",
      "                     HHHHHHH  \n",
      "                      HHHHH   \n",
      "                       HHH    \n",
      "                        H     \n"
     ]
    }
   ],
   "source": [
    "# Text Alignment\n",
    "\n",
    "#Replace all ______ with rjust, ljust or center. \n",
    "\n",
    "thickness = int(input()) #This must be an odd number\n",
    "c = 'H'\n",
    "\n",
    "#Top Cone\n",
    "for i in range(thickness):\n",
    "    print((c*i).rjust(thickness-1)+c+(c*i).ljust(thickness-1))\n",
    "\n",
    "#Top Pillars\n",
    "for i in range(thickness+1):\n",
    "    print((c*thickness).center(thickness*2)+(c*thickness).center(thickness*6))\n",
    "\n",
    "#Middle Belt\n",
    "for i in range((thickness+1)//2):\n",
    "    print((c*thickness*5).center(thickness*6))    \n",
    "\n",
    "#Bottom Pillars\n",
    "for i in range(thickness+1):\n",
    "    print((c*thickness).center(thickness*2)+(c*thickness).center(thickness*6))    \n",
    "\n",
    "#Bottom Cone\n",
    "for i in range(thickness):\n",
    "    print(((c*(thickness-i-1)).rjust(thickness)+c+(c*(thickness-i-1)).ljust(thickness)).rjust(thickness*6))"
   ]
  },
  {
   "cell_type": "code",
   "execution_count": 34,
   "id": "66baa13d",
   "metadata": {},
   "outputs": [
    {
     "name": "stdout",
     "output_type": "stream",
     "text": [
      "asdfghjkl\n",
      "3\n",
      "asd\n",
      "fgh\n",
      "jkl\n"
     ]
    }
   ],
   "source": [
    "# Text Wrap\n",
    "\n",
    "import textwrap\n",
    "\n",
    "if __name__ == '__main__':\n",
    "    string, max_width = input(), int(input())\n",
    "    result = textwrap.fill(string, max_width)\n",
    "    print(result)"
   ]
  },
  {
   "cell_type": "code",
   "execution_count": 39,
   "id": "1802aca6",
   "metadata": {},
   "outputs": [
    {
     "name": "stdout",
     "output_type": "stream",
     "text": [
      "9 27\n",
      "------------.|.------------\n",
      "---------.|..|..|.---------\n",
      "------.|..|..|..|..|.------\n",
      "---.|..|..|..|..|..|..|.---\n",
      "----------WELCOME----------\n",
      "---.|..|..|..|..|..|..|.---\n",
      "------.|..|..|..|..|.------\n",
      "---------.|..|..|.---------\n",
      "------------.|.------------\n"
     ]
    }
   ],
   "source": [
    "# Designer Door Mat (Code from Discussion page)\n",
    "\n",
    "dimentions = input().split()\n",
    "\n",
    "N = int(dimentions[0])\n",
    "M = int(dimentions[1])\n",
    "for j in range(0, 1, 1):\n",
    "    for i in range(1, M//3, 1):\n",
    "        if i % 2 != 0:\n",
    "            print((\".|.\" * i).center(M, \"-\"))\n",
    "    print(\"WELCOME\".center(M, \"-\"))\n",
    "    for i in range((M//3)-1, 0, -1):\n",
    "        if i % 2 != 0:\n",
    "            print((\".|.\" * i).center(M, \"-\"))"
   ]
  },
  {
   "cell_type": "code",
   "execution_count": 44,
   "id": "7414e7c2",
   "metadata": {},
   "outputs": [
    {
     "name": "stdout",
     "output_type": "stream",
     "text": [
      "4\n",
      "  1   1   1   1\n",
      "  2   2   2  10\n",
      "  3   3   3  11\n",
      "  4   4   4 100\n"
     ]
    }
   ],
   "source": [
    "# String Formatting (used ChatGPT)\n",
    "\n",
    "def print_formatted(number):\n",
    "    width = len(\"{0:b}\".format(number))\n",
    "    for i in range(1, number+1):\n",
    "        print(\"{0:{width}d} {0:{width}o} {0:{width}X} {0:{width}b}\".format(i, width=width))\n",
    "\n",
    "if __name__ == '__main__':\n",
    "    n = int(input())\n",
    "    print_formatted(n)"
   ]
  },
  {
   "cell_type": "code",
   "execution_count": 46,
   "id": "0f079bd8",
   "metadata": {},
   "outputs": [
    {
     "name": "stdout",
     "output_type": "stream",
     "text": [
      "5\n",
      "--------e--------\n",
      "------e-d-e------\n",
      "----e-d-c-d-e----\n",
      "--e-d-c-b-c-d-e--\n",
      "e-d-c-b-a-b-c-d-e\n",
      "--e-d-c-b-c-d-e--\n",
      "----e-d-c-d-e----\n",
      "------e-d-e------\n",
      "--------e--------\n"
     ]
    }
   ],
   "source": [
    "# Alphabet Rangoli ( Used ChatGPT)\n",
    "\n",
    "def print_rangoli(size):\n",
    "    import string\n",
    "    alphabet = string.ascii_lowercase\n",
    "    \n",
    "    width = size*2-1 + (size-1) * 2\n",
    "    \n",
    "    for i in range(1-size, size):\n",
    "        sublist = list(alphabet[abs(i):size])\n",
    "        prelist = list(reversed(sublist[1:]))\n",
    "        wholelist = prelist + sublist\n",
    "        print('-'.join(wholelist).center(width, '-'))\n",
    "\n",
    "\n",
    "if __name__ == '__main__':\n",
    "    n = int(input())\n",
    "    print_rangoli(n)"
   ]
  },
  {
   "cell_type": "code",
   "execution_count": 76,
   "id": "8c64ce87",
   "metadata": {},
   "outputs": [
    {
     "name": "stdout",
     "output_type": "stream",
     "text": [
      "habib\n"
     ]
    }
   ],
   "source": [
    "# Capitalize\n",
    "\n",
    "import math\n",
    "import os\n",
    "import random\n",
    "import re\n",
    "import sys\n",
    "\n",
    "def solve(s):\n",
    "    r = s[0].upper()\n",
    "    for i in range(1, len(s)):\n",
    "        if s[i-1] == ' ':\n",
    "            r += s[i].upper()\n",
    "        else:\n",
    "            r += s[i]\n",
    "    return r\n",
    "if __name__ == '__main__':\n",
    "    \n",
    "    os.environ['OUTPUT_PATH'] = \"output.txt\"\n",
    "\n",
    "    fptr = open(os.environ['OUTPUT_PATH'], 'w')\n",
    "\n",
    "    s = input()\n",
    "\n",
    "    result = solve(s)\n",
    "\n",
    "    fptr.write(result + '\\n')\n",
    "\n",
    "    fptr.close()\n"
   ]
  },
  {
   "cell_type": "code",
   "execution_count": 84,
   "id": "bf609b2d",
   "metadata": {},
   "outputs": [
    {
     "name": "stdout",
     "output_type": "stream",
     "text": [
      "Stuart 12\n"
     ]
    }
   ],
   "source": [
    "# Minion Game\n",
    "\n",
    "string = 'Banana'\n",
    "Stuart=0\n",
    "Kevin=0\n",
    "vowels=\"aieouAIEOU\"\n",
    "\n",
    "for i in range(0,len(string)):\n",
    "    if string[i] in vowels:\n",
    "            Kevin+=len(string)-i\n",
    "    else:\n",
    "        Stuart+=len(string)-i\n",
    "if Kevin>Stuart:\n",
    "    print(\"Kevin {}\".format(Kevin))\n",
    "elif Kevin<Stuart:\n",
    "    print(\"Stuart {}\".format(Stuart))\n",
    "else:\n",
    "    print(\"Draw\")"
   ]
  },
  {
   "cell_type": "code",
   "execution_count": 111,
   "id": "2edf6638",
   "metadata": {},
   "outputs": [
    {
     "name": "stdout",
     "output_type": "stream",
     "text": [
      "aadbaacda\n",
      "3\n",
      "ad\n",
      "ba\n",
      "cda\n"
     ]
    }
   ],
   "source": [
    "# Merge the Tools\n",
    "\n",
    "import textwrap\n",
    "\n",
    "def merge_the_tools(string, k):\n",
    "    \n",
    "    unique_chars_list = []\n",
    "    string_list = list(textwrap.wrap(string, k))\n",
    "    \n",
    "    for s in string_list:\n",
    "        unique_chars = \"\".join([char for i, char in enumerate(s) if char not in s[:i]])\n",
    "        unique_chars_list.append(unique_chars)\n",
    "\n",
    "    for j in range(len(unique_chars_list)):\n",
    "        print(unique_chars_list[j], end='\\n')\n",
    "        \n",
    "if __name__ == '__main__':\n",
    "    string, k = input(), int(input())\n",
    "    merge_the_tools(string, k)"
   ]
  }
 ],
 "metadata": {
  "kernelspec": {
   "display_name": "Python 3 (ipykernel)",
   "language": "python",
   "name": "python3"
  },
  "language_info": {
   "codemirror_mode": {
    "name": "ipython",
    "version": 3
   },
   "file_extension": ".py",
   "mimetype": "text/x-python",
   "name": "python",
   "nbconvert_exporter": "python",
   "pygments_lexer": "ipython3",
   "version": "3.11.4"
  }
 },
 "nbformat": 4,
 "nbformat_minor": 5
}
