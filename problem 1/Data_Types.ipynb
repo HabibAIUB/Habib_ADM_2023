{
 "cells": [
  {
   "cell_type": "code",
   "execution_count": 3,
   "id": "e1fc9289",
   "metadata": {},
   "outputs": [
    {
     "name": "stdout",
     "output_type": "stream",
     "text": [
      "2\n",
      "2\n",
      "2\n",
      "3\n",
      "[[0, 0, 0], [0, 0, 1], [0, 0, 2], [0, 1, 0], [0, 1, 1], [0, 2, 0], [0, 2, 2], [1, 0, 0], [1, 0, 1], [1, 1, 0], [1, 1, 2], [1, 2, 1], [1, 2, 2], [2, 0, 0], [2, 0, 2], [2, 1, 1], [2, 1, 2], [2, 2, 0], [2, 2, 1], [2, 2, 2]]\n"
     ]
    }
   ],
   "source": [
    "# List Comprehensions\n",
    "\n",
    "if __name__ == '__main__':\n",
    "    x = int(input()) \n",
    "    y = int(input())\n",
    "    z = int(input())\n",
    "    n = int(input())\n",
    "    \n",
    "newlist= [[i,j,k] \n",
    "            for i in range (x+1)\n",
    "            for j in range (y+1)\n",
    "            for k in range (z+1)\n",
    "            if (i+j+k) != n ]\n",
    "\n",
    "print(newlist)"
   ]
  },
  {
   "cell_type": "code",
   "execution_count": 7,
   "id": "9f1c5454",
   "metadata": {},
   "outputs": [
    {
     "name": "stdout",
     "output_type": "stream",
     "text": [
      "3\n",
      "1 6 2\n",
      "2\n"
     ]
    }
   ],
   "source": [
    "# Find the Runner-Up scores\n",
    "\n",
    "if __name__ == '__main__':\n",
    "    n = int(input())\n",
    "    arr = map(int, input().split())\n",
    "l=(sorted(set(arr)))\n",
    "print(l[-2])"
   ]
  },
  {
   "cell_type": "code",
   "execution_count": 8,
   "id": "59a20fca",
   "metadata": {},
   "outputs": [
    {
     "name": "stdout",
     "output_type": "stream",
     "text": [
      "3\n",
      "habib\n",
      "23.5\n",
      "jomie\n",
      "12.5\n",
      "mehdi\n",
      "23.5\n",
      "habib\n",
      "mehdi\n"
     ]
    }
   ],
   "source": [
    "# Nested Lists\n",
    "\n",
    "if __name__ == '__main__':\n",
    "    list1=[]\n",
    "    list2=[]\n",
    "    list3=[]\n",
    "    for _ in range(int(input())):\n",
    "        name = input()\n",
    "        score = float(input())\n",
    "\n",
    "        list1.append([name,score])\n",
    "        list2.append(score)\n",
    "        \n",
    "sls=list(sorted(set(list2)))[1]\n",
    "for name, score in (list1):\n",
    "    if score==sls:\n",
    "        list3.append(name)\n",
    "\n",
    "print (\"\\n\".join(sorted(list3)))"
   ]
  },
  {
   "cell_type": "code",
   "execution_count": 11,
   "id": "57ee4b63",
   "metadata": {},
   "outputs": [
    {
     "name": "stdout",
     "output_type": "stream",
     "text": [
      "2 \n",
      "habib 23 23 43\n",
      "mehdi 45 32 12\n",
      "habib\n",
      "29.67\n"
     ]
    }
   ],
   "source": [
    "# Finding the percentage\n",
    "\n",
    "if __name__ == '__main__':\n",
    "    n = int(input())\n",
    "    student_marks = {}\n",
    "    s=0.00\n",
    "    for _ in range(n):\n",
    "        name, *line = input().split()\n",
    "        scores = list(map(float, line))\n",
    "        student_marks[name] = scores\n",
    "    query_name = input()\n",
    "    \n",
    "   \n",
    "    answer = sum(student_marks[query_name])/3\n",
    "    print(\"%.2f\" % answer)"
   ]
  },
  {
   "cell_type": "code",
   "execution_count": 14,
   "id": "4e8b9da6",
   "metadata": {},
   "outputs": [
    {
     "name": "stdout",
     "output_type": "stream",
     "text": [
      "3\n",
      "insert 4 5\n",
      "sort\n",
      "print\n",
      "[5]\n"
     ]
    }
   ],
   "source": [
    "# Lists\n",
    "\n",
    "if __name__ == '__main__':\n",
    "    N = int(input())\n",
    "\n",
    "lst = []\n",
    "\n",
    "for x in range(N):\n",
    "    command = input().split()\n",
    "\n",
    "    if command[0] == 'insert':\n",
    "        lst.insert(int(command[1]), int(command[2]))\n",
    "    elif command[0] == 'print':\n",
    "        print(lst)\n",
    "    elif command[0] == 'remove':\n",
    "        lst.remove(int(command[1]))\n",
    "    elif command[0] == 'append':\n",
    "        lst.append(int(command[1]))\n",
    "    elif command[0] == 'sort':\n",
    "        lst.sort()\n",
    "    elif command[0] == 'pop':\n",
    "        lst.pop()\n",
    "    else:\n",
    "        lst.reverse()"
   ]
  },
  {
   "cell_type": "code",
   "execution_count": 15,
   "id": "46360ef7",
   "metadata": {},
   "outputs": [
    {
     "name": "stdout",
     "output_type": "stream",
     "text": [
      "2\n",
      "2 3\n",
      "8409376899596376432\n"
     ]
    }
   ],
   "source": [
    "# Tuples\n",
    "\n",
    "if __name__ == '__main__':\n",
    "    n = int(input())\n",
    "print(hash(tuple(map(int, input().split()))))"
   ]
  }
 ],
 "metadata": {
  "kernelspec": {
   "display_name": "Python 3 (ipykernel)",
   "language": "python",
   "name": "python3"
  },
  "language_info": {
   "codemirror_mode": {
    "name": "ipython",
    "version": 3
   },
   "file_extension": ".py",
   "mimetype": "text/x-python",
   "name": "python",
   "nbconvert_exporter": "python",
   "pygments_lexer": "ipython3",
   "version": "3.11.4"
  }
 },
 "nbformat": 4,
 "nbformat_minor": 5
}
