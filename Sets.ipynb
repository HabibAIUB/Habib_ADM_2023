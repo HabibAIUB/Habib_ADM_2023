{
 "cells": [
  {
   "cell_type": "code",
   "execution_count": 2,
   "id": "ffde7ed3",
   "metadata": {},
   "outputs": [
    {
     "name": "stdout",
     "output_type": "stream",
     "text": [
      "3\n",
      "121 321 232\n",
      "224.667\n"
     ]
    }
   ],
   "source": [
    "# Introduction to Sets\n",
    "\n",
    "def average(array):\n",
    "    s = 0\n",
    "    for i in set(array):\n",
    "        s = s+i\n",
    "    avg = s/len(set(array))\n",
    "    return \"{0:.3f}\".format(avg)\n",
    "\n",
    "if __name__ == '__main__':\n",
    "    n = int(input())\n",
    "    arr = list(map(int, input().split()))\n",
    "    result = average(arr)\n",
    "    print(result)"
   ]
  },
  {
   "cell_type": "code",
   "execution_count": 2,
   "id": "7983ea40",
   "metadata": {},
   "outputs": [
    {
     "name": "stdout",
     "output_type": "stream",
     "text": [
      "4\n",
      "1 2 3 4\n",
      "4\n",
      "1 2 5 6\n",
      "3\n",
      "4\n",
      "5\n",
      "6\n"
     ]
    }
   ],
   "source": [
    "# Symetric Differnce\n",
    "\n",
    "m = int(input())\n",
    "a = set(map(int,input().split()))\n",
    "\n",
    "n = int(input())\n",
    "b = set(map(int, input().split()))\n",
    "\n",
    "s1 = a.difference(b)\n",
    "s2 = b.difference(a)\n",
    "for i in sorted(s1.union(s2)):\n",
    "    print(i)"
   ]
  },
  {
   "cell_type": "code",
   "execution_count": 5,
   "id": "f47e2f26",
   "metadata": {},
   "outputs": [
    {
     "name": "stdout",
     "output_type": "stream",
     "text": [
      "3\n",
      "us\n",
      "us\n",
      "uk\n",
      "2\n"
     ]
    }
   ],
   "source": [
    "# Set.add()\n",
    "\n",
    "n= int(input())\n",
    "c = set()\n",
    "for i in range(n):\n",
    "    con= input()\n",
    "    c.add(con)\n",
    "print(len(c))"
   ]
  },
  {
   "cell_type": "code",
   "execution_count": 6,
   "id": "dd6fb639",
   "metadata": {},
   "outputs": [
    {
     "name": "stdout",
     "output_type": "stream",
     "text": [
      "3\n",
      "1 2 3\n",
      "2\n",
      "discard 3\n",
      "pop\n",
      "2\n"
     ]
    }
   ],
   "source": [
    "# Set .discard(), .remove() & .pop()\n",
    "\n",
    "n = int(input())\n",
    "s = set(map(int, input().split()))\n",
    "m = int(input())\n",
    "o = list(list(map(str, input().split())) for _ in range(m))\n",
    "for i in o:\n",
    "    if i[0] == \"pop\":\n",
    "        s.pop()\n",
    "    elif i[0] == \"discard\":\n",
    "        s.discard(int(i[1]))\n",
    "    else:\n",
    "        s.remove(int(i[1]))\n",
    "print(sum(s))"
   ]
  },
  {
   "cell_type": "code",
   "execution_count": 7,
   "id": "dd327d3e",
   "metadata": {},
   "outputs": [
    {
     "name": "stdout",
     "output_type": "stream",
     "text": [
      "3\n",
      "1 2 3\n",
      "3\n",
      "1 3 4\n",
      "4\n"
     ]
    }
   ],
   "source": [
    "#Set .union() Operation\n",
    "\n",
    "n = int(input())\n",
    "nn=set(map(int, input().split()))\n",
    "m = int(input())\n",
    "mm=list(map(int, input().split()))\n",
    "print(len(nn.union(mm)))"
   ]
  },
  {
   "cell_type": "code",
   "execution_count": 8,
   "id": "0ab9e00f",
   "metadata": {},
   "outputs": [
    {
     "name": "stdout",
     "output_type": "stream",
     "text": [
      "3\n",
      "1 2 3\n",
      "3\n",
      "1 4 5\n",
      "1\n"
     ]
    }
   ],
   "source": [
    "# Set .intersection() Operation\n",
    "\n",
    "n = int(input())\n",
    "nn=set(map(int, input().split()))\n",
    "m = int(input())\n",
    "mm=list(map(int, input().split()))\n",
    "print(len(nn.intersection(mm)))"
   ]
  },
  {
   "cell_type": "code",
   "execution_count": 9,
   "id": "88354139",
   "metadata": {},
   "outputs": [
    {
     "name": "stdout",
     "output_type": "stream",
     "text": [
      "3\n",
      "1 2 3\n",
      "3\n",
      "1 4 5\n",
      "2\n"
     ]
    }
   ],
   "source": [
    "# Set .difference() Operation\n",
    "\n",
    "n = int(input())\n",
    "nn=set(map(int, input().split()))\n",
    "m = int(input())\n",
    "mm=list(map(int, input().split()))\n",
    "print(len(nn.difference(mm)))"
   ]
  },
  {
   "cell_type": "code",
   "execution_count": 10,
   "id": "9f61d444",
   "metadata": {},
   "outputs": [
    {
     "name": "stdout",
     "output_type": "stream",
     "text": [
      "3\n",
      "1 2 3\n",
      "3\n",
      "1 4 5\n",
      "4\n"
     ]
    }
   ],
   "source": [
    "# Set .symmetric_difference() Operation\n",
    "\n",
    "n = int(input())\n",
    "nn=set(map(int, input().split()))\n",
    "m = int(input())\n",
    "mm=list(map(int, input().split()))\n",
    "print(len(nn.symmetric_difference(mm)))"
   ]
  },
  {
   "cell_type": "code",
   "execution_count": null,
   "id": "3e0becec",
   "metadata": {},
   "outputs": [],
   "source": [
    "# Set Mutation\n",
    "\n",
    "a = int(input())\n",
    "s = set(map(int, input().split()))\n",
    "\n",
    "N = int(input())\n",
    "for i in range(N):\n",
    "    cmd = input().split()\n",
    "    lis = set(map(int, input().split()))\n",
    "    if(cmd[0]==\"intersection_update\"):\n",
    "        s.intersection_update(lis)\n",
    "    elif(cmd[0]==\"update\"):\n",
    "        s.update(lis)\n",
    "    elif(cmd[0]==\"symmetric_difference_update\"):\n",
    "        s.symmetric_difference_update(lis)\n",
    "    else:\n",
    "        s.difference_update(lis)\n",
    "        \n",
    "print(sum(s))"
   ]
  },
  {
   "cell_type": "code",
   "execution_count": null,
   "id": "c6491d6a",
   "metadata": {},
   "outputs": [],
   "source": [
    "# The Captains Room\n",
    "\n",
    "k = int(input())\n",
    "rooms = input().split()\n",
    "a = set(rooms)\n",
    "for i in a:\n",
    "    rooms.remove(i)\n",
    "print(a.symmetric_difference(set(rooms)).pop())"
   ]
  },
  {
   "cell_type": "code",
   "execution_count": null,
   "id": "613b9e64",
   "metadata": {},
   "outputs": [],
   "source": [
    "# Check Subset\n",
    "\n",
    "s= int(input())\n",
    "\n",
    "for i in range(s):\n",
    "    a = int(input())\n",
    "    aa = set(map(int, input().split()))\n",
    "    b = int(input())\n",
    "    bb = set(map(int, input().split()))\n",
    "\n",
    "    n = aa.difference(bb)\n",
    "\n",
    "    if len(n) == 0:\n",
    "        print(\"True\")\n",
    "    else:\n",
    "        print(\"False\")"
   ]
  },
  {
   "cell_type": "code",
   "execution_count": null,
   "id": "c56fd350",
   "metadata": {},
   "outputs": [],
   "source": [
    "# Check strict superset\n",
    "\n",
    "a = set(map(int, input().split()))\n",
    "n = int(input())\n",
    "\n",
    "p = []\n",
    "\n",
    "for i in range(n):\n",
    "    nn = set(map(int, input().split()))\n",
    "    m = nn.difference(a)\n",
    "    p += m\n",
    "\n",
    "if len(p) == 0:\n",
    "    print(\"True\")\n",
    "else:\n",
    "    print(\"False\")"
   ]
  },
  {
   "cell_type": "code",
   "execution_count": null,
   "id": "84e697bd",
   "metadata": {},
   "outputs": [],
   "source": [
    "# No Idea!\n",
    "\n",
    "n, m=map(int, input().split())\n",
    "arr=list(map(int, input().split()))\n",
    "a=set(map(int, input().split()))\n",
    "b=set(map(int, input().split()))\n",
    "res=0\n",
    "for i in arr:\n",
    "    if i in a:\n",
    "        res+=1\n",
    "    elif i in b:\n",
    "        res-=1\n",
    "print(res)"
   ]
  }
 ],
 "metadata": {
  "kernelspec": {
   "display_name": "Python 3 (ipykernel)",
   "language": "python",
   "name": "python3"
  },
  "language_info": {
   "codemirror_mode": {
    "name": "ipython",
    "version": 3
   },
   "file_extension": ".py",
   "mimetype": "text/x-python",
   "name": "python",
   "nbconvert_exporter": "python",
   "pygments_lexer": "ipython3",
   "version": "3.11.4"
  }
 },
 "nbformat": 4,
 "nbformat_minor": 5
}
